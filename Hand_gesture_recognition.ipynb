{
  "nbformat": 4,
  "nbformat_minor": 0,
  "metadata": {
    "colab": {
      "provenance": []
    },
    "kernelspec": {
      "name": "python3",
      "display_name": "Python 3"
    },
    "language_info": {
      "name": "python"
    }
  },
  "cells": [
    {
      "cell_type": "code",
      "source": [
        "import pandas as pd\n",
        "import numpy as np\n",
        "import matplotlib.pyplot as plt\n",
        "import seaborn as sb"
      ],
      "metadata": {
        "id": "iPAkdTOcySMn"
      },
      "execution_count": 9,
      "outputs": []
    },
    {
      "cell_type": "code",
      "source": [
        "from PIL import Image"
      ],
      "metadata": {
        "id": "Huzp8ApCygns"
      },
      "execution_count": 10,
      "outputs": []
    },
    {
      "cell_type": "code",
      "source": [
        "from tensorflow.keras.layers import Input,Dense,Flatten,BatchNormalization,GlobalAveragePooling2D,Dropout,Conv2D,MaxPool2D\n",
        "from tensorflow.keras.preprocessing.image import ImageDataGenerator\n",
        "from tensorflow.keras.models import Model"
      ],
      "metadata": {
        "id": "-1kz3gTXygyJ"
      },
      "execution_count": 11,
      "outputs": []
    },
    {
      "cell_type": "code",
      "source": [
        "genobj=ImageDataGenerator(width_shift_range=0.1,height_shift_range=0.1,horizontal_flip=True,rescale=1/255.0,validation_split=0.2)"
      ],
      "metadata": {
        "id": "gzsoh1GvyoHs"
      },
      "execution_count": 12,
      "outputs": []
    },
    {
      "cell_type": "code",
      "source": [
        "np.array(Image.open('/content/Dataset_Binary/six/img 601.jpg')).shape"
      ],
      "metadata": {
        "id": "SGkWSW7ryoJo",
        "colab": {
          "base_uri": "https://localhost:8080/"
        },
        "outputId": "2a2db170-9e7f-42ad-f6bf-5df4b58501bc"
      },
      "execution_count": 13,
      "outputs": [
        {
          "output_type": "execute_result",
          "data": {
            "text/plain": [
              "(300, 300, 3)"
            ]
          },
          "metadata": {},
          "execution_count": 13
        }
      ]
    },
    {
      "cell_type": "code",
      "source": [
        "BATCH_SIZE=20"
      ],
      "metadata": {
        "id": "9VgYm1FGyoNR"
      },
      "execution_count": 14,
      "outputs": []
    },
    {
      "cell_type": "code",
      "source": [
        "train_obj=genobj.flow_from_directory('/content/Dataset_Binary',target_size=(300,300),batch_size=BATCH_SIZE,subset='training')"
      ],
      "metadata": {
        "id": "tTQr1-gY1AMm",
        "colab": {
          "base_uri": "https://localhost:8080/"
        },
        "outputId": "75bab812-0b84-4a22-e4f5-1b3db4bf83e7"
      },
      "execution_count": 15,
      "outputs": [
        {
          "output_type": "stream",
          "name": "stdout",
          "text": [
            "Found 4591 images belonging to 16 classes.\n"
          ]
        }
      ]
    },
    {
      "cell_type": "code",
      "source": [
        "val_obj=genobj.flow_from_directory('/content/Dataset_Binary',target_size=(300,300),batch_size=BATCH_SIZE,subset='validation')"
      ],
      "metadata": {
        "colab": {
          "base_uri": "https://localhost:8080/"
        },
        "id": "CJzGJ_WT1AQp",
        "outputId": "11d231d0-d509-4969-c55f-d900c5c517d0"
      },
      "execution_count": 16,
      "outputs": [
        {
          "output_type": "stream",
          "name": "stdout",
          "text": [
            "Found 1142 images belonging to 16 classes.\n"
          ]
        }
      ]
    },
    {
      "cell_type": "code",
      "source": [
        "train_obj.classes"
      ],
      "metadata": {
        "id": "Qr3Br5BS1AOh",
        "colab": {
          "base_uri": "https://localhost:8080/"
        },
        "outputId": "19d9a481-8810-4dfe-d565-b52e8fc5ba90"
      },
      "execution_count": 17,
      "outputs": [
        {
          "output_type": "execute_result",
          "data": {
            "text/plain": [
              "array([ 1,  1,  1, ..., 15, 15, 15], dtype=int32)"
            ]
          },
          "metadata": {},
          "execution_count": 17
        }
      ]
    },
    {
      "cell_type": "code",
      "source": [
        "def plot_image():\n",
        "    list_image_label=[]\n",
        "    for i in range(9):\n",
        "        batch=next(train_obj)\n",
        "        rndm_no=np.random.randint(0,len(next(train_obj)[0]))\n",
        "        list_image_label.append((batch[0][rndm_no],batch[1][rndm_no]))\n",
        "    return list_image_label"
      ],
      "metadata": {
        "id": "FLI003HW1AUL"
      },
      "execution_count": 18,
      "outputs": []
    },
    {
      "cell_type": "code",
      "source": [
        "list_img=plot_image()"
      ],
      "metadata": {
        "id": "qT1lMNo61Mi0"
      },
      "execution_count": 19,
      "outputs": []
    },
    {
      "cell_type": "code",
      "source": [
        "fig,axes=plt.subplots(3,3)\n",
        "axes=axes.flatten()\n",
        "count=0\n",
        "for i,j in list_img:\n",
        "\n",
        "    plt.figure()\n",
        "    label=np.where(j==1)[0]\n",
        "    axes[count].imshow(i, cmap='gray')\n",
        "    axes[count].set_title(f'Label: {label}')\n",
        "    axes[count].axis('off')\n",
        "    count+=1\n",
        "plt.tight_layout()\n",
        "train_obj.class_indices"
      ],
      "metadata": {
        "id": "9DsPPLwI2FDr",
        "colab": {
          "base_uri": "https://localhost:8080/",
          "height": 862
        },
        "outputId": "1a0c0b3b-ad2d-4edf-a6e7-1a309f7516ac"
      },
      "execution_count": 20,
      "outputs": [
        {
          "output_type": "execute_result",
          "data": {
            "text/plain": [
              "{'.ipynb_checkpoints': 0,\n",
              " 'down': 1,\n",
              " 'eight': 2,\n",
              " 'five': 3,\n",
              " 'four': 4,\n",
              " 'left': 5,\n",
              " 'nine': 6,\n",
              " 'one': 7,\n",
              " 'right': 8,\n",
              " 'seven': 9,\n",
              " 'six': 10,\n",
              " 'stop': 11,\n",
              " 'three': 12,\n",
              " 'two': 13,\n",
              " 'up': 14,\n",
              " 'zero': 15}"
            ]
          },
          "metadata": {},
          "execution_count": 20
        },
        {
          "output_type": "display_data",
          "data": {
            "text/plain": [
              "<Figure size 640x480 with 9 Axes>"
            ],
            "image/png": "[encoded data removed]"
          },
          "metadata": {}
        },
        {
          "output_type": "display_data",
          "data": {
            "text/plain": [
              "<Figure size 640x480 with 0 Axes>"
            ]
          },
          "metadata": {}
        },
        {
          "output_type": "display_data",
          "data": {
            "text/plain": [
              "<Figure size 640x480 with 0 Axes>"
            ]
          },
          "metadata": {}
        },
        {
          "output_type": "display_data",
          "data": {
            "text/plain": [
              "<Figure size 640x480 with 0 Axes>"
            ]
          },
          "metadata": {}
        },
        {
          "output_type": "display_data",
          "data": {
            "text/plain": [
              "<Figure size 640x480 with 0 Axes>"
            ]
          },
          "metadata": {}
        },
        {
          "output_type": "display_data",
          "data": {
            "text/plain": [
              "<Figure size 640x480 with 0 Axes>"
            ]
          },
          "metadata": {}
        },
        {
          "output_type": "display_data",
          "data": {
            "text/plain": [
              "<Figure size 640x480 with 0 Axes>"
            ]
          },
          "metadata": {}
        },
        {
          "output_type": "display_data",
          "data": {
            "text/plain": [
              "<Figure size 640x480 with 0 Axes>"
            ]
          },
          "metadata": {}
        },
        {
          "output_type": "display_data",
          "data": {
            "text/plain": [
              "<Figure size 640x480 with 0 Axes>"
            ]
          },
          "metadata": {}
        },
        {
          "output_type": "display_data",
          "data": {
            "text/plain": [
              "<Figure size 640x480 with 0 Axes>"
            ]
          },
          "metadata": {}
        }
      ]
    },
    {
      "cell_type": "code",
      "source": [
        "def draw_single(obj):\n",
        "    batch=next(obj)\n",
        "    image,label=batch[0][0],batch[1][0]\n",
        "    return image,label"
      ],
      "metadata": {
        "id": "8M--sCuqPlIi"
      },
      "execution_count": 21,
      "outputs": []
    },
    {
      "cell_type": "code",
      "source": [
        "img,lbl=draw_single(train_obj)"
      ],
      "metadata": {
        "id": "J7jyoexCywKE"
      },
      "execution_count": 22,
      "outputs": []
    },
    {
      "cell_type": "code",
      "source": [
        "plt.imshow(img)\n",
        "plt.axis('off')"
      ],
      "metadata": {
        "colab": {
          "base_uri": "https://localhost:8080/",
          "height": 423
        },
        "id": "PiakHSBR7MRM",
        "outputId": "11278683-d550-4e87-8e4f-633f2859abc4"
      },
      "execution_count": 23,
      "outputs": [
        {
          "output_type": "execute_result",
          "data": {
            "text/plain": [
              "(-0.5, 299.5, 299.5, -0.5)"
            ]
          },
          "metadata": {},
          "execution_count": 23
        },
        {
          "output_type": "display_data",
          "data": {
            "text/plain": [
              "<Figure size 640x480 with 1 Axes>"
            ],
            "image/png": "[encoded data removed]"
          },
          "metadata": {}
        }
      ]
    },
    {
      "cell_type": "code",
      "source": [
        "input_shape=img.shape"
      ],
      "metadata": {
        "id": "LimqEdc_7MS2"
      },
      "execution_count": 24,
      "outputs": []
    },
    {
      "cell_type": "code",
      "source": [
        "from tensorflow.keras.optimizers import Adam"
      ],
      "metadata": {
        "id": "ikpnnZ8R7MU0"
      },
      "execution_count": 25,
      "outputs": []
    },
    {
      "cell_type": "code",
      "source": [
        "steps_per_epoch=5000//BATCH_SIZE"
      ],
      "metadata": {
        "id": "EMyJ3Nyk7MYN"
      },
      "execution_count": 26,
      "outputs": []
    },
    {
      "cell_type": "code",
      "source": [
        "from tensorflow.keras.applications import ResNet50"
      ],
      "metadata": {
        "id": "Re3116iu7gc-"
      },
      "execution_count": 31,
      "outputs": []
    },
    {
      "cell_type": "code",
      "source": [
        "base_model = ResNet50(weights='imagenet', include_top=False, input_shape=(300, 300, 3))\n",
        "\n",
        "# Add custom head for your specific task (e.g., classification)\n",
        "x = GlobalAveragePooling2D()(base_model.output)\n",
        "x = Dense(1024, activation='relu')(x)\n",
        "predictions = Dense(15, activation='softmax')(x)\n",
        "\n",
        "# Combine base model and custom head\n",
        "model = Model(inputs=base_model.input, outputs=predictions)\n",
        "\n",
        "# Compile the model\n",
        "model.compile(optimizer=Adam(learning_rate=0.001), loss='categorical_crossentropy', metrics=['accuracy'])"
      ],
      "metadata": {
        "colab": {
          "base_uri": "https://localhost:8080/"
        },
        "id": "UQ-ZWLuz7gfC",
        "outputId": "a265ccc1-e79b-4e45-c3c1-aa44b9d93a8c"
      },
      "execution_count": 28,
      "outputs": [
        {
          "output_type": "stream",
          "name": "stdout",
          "text": [
            "Downloading data from https://storage.googleapis.com/tensorflow/keras-applications/resnet/resnet50_weights_tf_dim_ordering_tf_kernels_notop.h5\n",
            "94765736/94765736 [==============================] - 1s 0us/step\n"
          ]
        }
      ]
    }
  ]
}